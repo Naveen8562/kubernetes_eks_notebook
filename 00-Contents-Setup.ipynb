{
 "cells": [
  {
   "cell_type": "markdown",
   "metadata": {},
   "source": [
    "<center> \n",
    "    <h3><b> Adnan Rashid </b></h3>\n",
    "    <nav>\n",
    "    | <a href=\"00-Contents-Setup.ipynb\"> Home Page </a> | \n",
    "    <a href=\"http://bit.ly/cka_notes_original\"> Kubernetes Notes </a> |\n",
    "    <a href=\"https://adnan.study\"> Website </a> |\n",
    "    <a href=\"https://www.instagram.com/adnans_techie_studies/\"> Instagram </a> |\n",
    "    <a href=\"https://www.linkedin.com/in/adnanrashid1/\"> LinkedIn </a> |\n",
    "    </nav>\n",
    "\n",
    "</center>"
   ]
  },
  {
   "cell_type": "markdown",
   "metadata": {},
   "source": [
    "<center><h1 style=\"background:black\"><code style=\"background:black;color:white\">Welcome to Kubernetes on AWS EKS</code></h1></center>"
   ]
  },
  {
   "cell_type": "markdown",
   "metadata": {},
   "source": [
    "<center>\n",
    "<img src=\"https://adnanstudyimages.s3-eu-west-1.amazonaws.com/3.jpg\" width=\"50%\" height=\"50%\" border=5/>\n",
    "</center>"
   ]
  },
  {
   "cell_type": "markdown",
   "metadata": {},
   "source": [
    "<center><h1 style=\"background:black\"><code style=\"background:black;color:white\">Contents</code></h1></center>"
   ]
  },
  {
   "cell_type": "markdown",
   "metadata": {},
   "source": [
    "* [Setup](#Setup)\n",
    "\n",
    "* [Create EKS Cluster](./01-Create-Cluster.ipynb)\n",
    "* [Deploy Official Kubernetes Dashboard](./02-Deploy-Microservices.ipynb)\n",
    "* [Deploy Example MicroServices](./03-Helm.ipynb)\n",
    "* [Helmv3](./04-Health-Checks.ipynb)\n",
    "* [Health Checks](./05-AutoScaling)\n",
    "* [Implement AutoScaling with HPA and CA](./05-AutoScaling.ipynb)\n",
    "* [Intro To RBAC](./06-RBAC.ipynb)\n",
    "* [Using IAM Groups to Manage Kubernetes Cluster Access](./07-IAM.ipynb)\n",
    "* [IAM Roles for Service Accounts](./07-IAM.ipynb)\n",
    "* [Securing Your Cluster With Network Policies](./08-Network.ipynb)\n",
    "* [Exposing a Service](./09-Service.ipynb)\n",
    "* [Assigning Pods to Nodes](./10-Pods-Nodes.ipynb)\n",
    "* [Using Spot Instances with EKS](./10-Pods-Nodes.ipynb)\n",
    "* [Advanced VPC Networking with EKS](./11-VPC.ipynb)\n",
    "* [Stateful Containers using StatefulSets](./12-State.ipynb)\n",
    "* [Deploying Microservices to EKS Fargate](./13-Fargate.ipynb)\n",
    "* [Deploying Microservices with AWS EFS](./14-EFS.ipynb)\n",
    "* [Encrypting Kubernetes Secrets](./15-Secrets.ipynb)\n",
    "* [Final Cleanup](./99-Final-CleanUp.ipynb)\n",
    "\n",
    "<br><br>"
   ]
  },
  {
   "cell_type": "markdown",
   "metadata": {},
   "source": [
    "<center><h1 style=\"background:black\"><code style=\"background:black;color:white\">Setup</center></code>"
   ]
  },
  {
   "cell_type": "markdown",
   "metadata": {},
   "source": [
    "## <br><br>Important"
   ]
  },
  {
   "cell_type": "markdown",
   "metadata": {},
   "source": [
    "* The temp folder is ignored by .gitignore  \n",
    "\n",
    "* The SageMaker instance has an auto shutdown script when idle for 1 hour to save on cost\n",
    "\n",
    "* SageMaker has the essential tooling installed already\n",
    "\n",
    "* Use Python 3 Kernel"
   ]
  },
  {
   "cell_type": "markdown",
   "metadata": {},
   "source": [
    "## <br><br>Tooling"
   ]
  },
  {
   "cell_type": "markdown",
   "metadata": {},
   "source": [
    "The following tools are needed to carry out the tasks"
   ]
  },
  {
   "cell_type": "markdown",
   "metadata": {},
   "source": [
    "#### Introduction to JupyterLab"
   ]
  },
  {
   "cell_type": "code",
   "execution_count": null,
   "metadata": {},
   "outputs": [],
   "source": [
    "from IPython.display import YouTubeVideo\n",
    "YouTubeVideo('A5YyoCKxEOU')"
   ]
  },
  {
   "cell_type": "markdown",
   "metadata": {},
   "source": [
    "#### Install Kubernetes Tools (Essential)"
   ]
  },
  {
   "cell_type": "markdown",
   "metadata": {},
   "source": [
    "<br>The Kubernetes command-line tool, kubectl, allows you to run commands against Kubernetes clusters. You can use kubectl to deploy applications, inspect and manage cluster resources, and view logs."
   ]
  },
  {
   "cell_type": "code",
   "execution_count": null,
   "metadata": {},
   "outputs": [],
   "source": [
    "from IPython.display import IFrame\n",
    "IFrame('https://kubernetes.io/docs/tasks/tools/install-kubectl/',\n",
    "       width='100%', height=500)"
   ]
  },
  {
   "cell_type": "markdown",
   "metadata": {},
   "source": [
    "* Verify Kubectl is installed (we have not configured yet) "
   ]
  },
  {
   "cell_type": "code",
   "execution_count": null,
   "metadata": {},
   "outputs": [],
   "source": [
    "!kubectl version"
   ]
  },
  {
   "cell_type": "markdown",
   "metadata": {},
   "source": [
    "#### <br><Br>Install AWS CLI (Essential)"
   ]
  },
  {
   "cell_type": "markdown",
   "metadata": {},
   "source": [
    "The AWS Command Line Interface (CLI) is a unified tool to manage your AWS services"
   ]
  },
  {
   "cell_type": "raw",
   "metadata": {},
   "source": [
    "https://docs.aws.amazon.com/cli/latest/userguide/install-cliv2.html"
   ]
  },
  {
   "cell_type": "markdown",
   "metadata": {},
   "source": [
    "* Verify installed "
   ]
  },
  {
   "cell_type": "code",
   "execution_count": null,
   "metadata": {},
   "outputs": [],
   "source": [
    "!aws --version"
   ]
  },
  {
   "cell_type": "markdown",
   "metadata": {},
   "source": [
    "#### <br><br>Install EKSCTL (Essential)"
   ]
  },
  {
   "cell_type": "markdown",
   "metadata": {},
   "source": [
    "eksctl is a simple CLI tool for creating clusters on EKS - Amazon's new managed Kubernetes service for EC2. It is written in Go, uses CloudFormation and was created by Weaveworks."
   ]
  },
  {
   "cell_type": "raw",
   "metadata": {},
   "source": [
    "https://docs.aws.amazon.com/eks/latest/userguide/eksctl.html"
   ]
  },
  {
   "cell_type": "code",
   "execution_count": null,
   "metadata": {},
   "outputs": [],
   "source": [
    "from IPython.display import YouTubeVideo\n",
    "YouTubeVideo('sryU3SkBjm8')"
   ]
  },
  {
   "cell_type": "markdown",
   "metadata": {},
   "source": [
    "* Verify eksctl is installed"
   ]
  },
  {
   "cell_type": "code",
   "execution_count": null,
   "metadata": {},
   "outputs": [],
   "source": [
    "!eksctl version"
   ]
  },
  {
   "cell_type": "markdown",
   "metadata": {},
   "source": [
    "#### <br><br>Install Lens IDE (Recommended) "
   ]
  },
  {
   "cell_type": "markdown",
   "metadata": {},
   "source": [
    "As you go through this course, there may be times when something is not working as expected in Kubernetes. This IDE gives you a nice simple way to see inside the cluster including any errors rather than doing everything on the command line"
   ]
  },
  {
   "cell_type": "code",
   "execution_count": null,
   "metadata": {},
   "outputs": [],
   "source": [
    "from IPython.display import IFrame\n",
    "IFrame('https://k8slens.dev/', width='100%', height=500)"
   ]
  },
  {
   "cell_type": "markdown",
   "metadata": {},
   "source": [
    "<iframe width=\"560\" height=\"315\" src=\"https://www.youtube-nocookie.com/embed/epw_MjxjMYI?controls=0\" frameborder=\"0\" allow=\"accelerometer; autoplay; encrypted-media; gyroscope; picture-in-picture\" allowfullscreen></iframe>"
   ]
  },
  {
   "cell_type": "markdown",
   "metadata": {},
   "source": [
    "#### <br><br>Block secrets from being committed to Github (Recommended)"
   ]
  },
  {
   "cell_type": "markdown",
   "metadata": {},
   "source": [
    "This will ensure you are not commiting anything sensitive to github such as access keys or even AWS account numbers "
   ]
  },
  {
   "cell_type": "raw",
   "metadata": {},
   "source": [
    "https://github.com/awslabs/git-secrets"
   ]
  },
  {
   "cell_type": "markdown",
   "metadata": {},
   "source": [
    "## <br><br>AWS Setup"
   ]
  },
  {
   "cell_type": "markdown",
   "metadata": {},
   "source": [
    "* Set the profile you would like to use, the region you would like EKS to launch into and AWS account number\n",
    "* It is recommended to do eu-west-1 as this supports all features.\n",
    "* Although you can use the SageMaker role, I would recommend setting up a profile, as it makes it easier later for testing. If you are unsure how to do this,<a href=\"https://docs.aws.amazon.com/cli/latest/userguide/cli-configure-quickstart.html\"> check this guide <a/>"
   ]
  },
  {
   "cell_type": "code",
   "execution_count": null,
   "metadata": {},
   "outputs": [],
   "source": [
    "AWS_PROFILE=''\n",
    "AWS_DEFAULT_REGION='eu-west-1'\n",
    "ACCOUNT_ID="
   ]
  },
  {
   "cell_type": "markdown",
   "metadata": {},
   "source": [
    "* Store for future usage and set for this notebook usage"
   ]
  },
  {
   "cell_type": "code",
   "execution_count": null,
   "metadata": {},
   "outputs": [],
   "source": [
    "%store AWS_PROFILE\n",
    "%store AWS_DEFAULT_REGION\n",
    "%store ACCOUNT_ID\n",
    "\n",
    "%env AWS_PROFILE=$AWS_PROFILE\n",
    "%env AWS_DEFAULT_REGION=$AWS_DEFAULT_REGION\n",
    "%env ACCOUNT_ID=$ACCOUNT_ID"
   ]
  },
  {
   "cell_type": "markdown",
   "metadata": {},
   "source": [
    "* Check identity "
   ]
  },
  {
   "cell_type": "code",
   "execution_count": null,
   "metadata": {},
   "outputs": [],
   "source": [
    "!aws sts get-caller-identity"
   ]
  },
  {
   "cell_type": "markdown",
   "metadata": {},
   "source": [
    "#### <br><br>Create an SSH Key"
   ]
  },
  {
   "cell_type": "markdown",
   "metadata": {},
   "source": [
    "* Generate a keypair called 'eksworkshop' "
   ]
  },
  {
   "cell_type": "code",
   "execution_count": null,
   "metadata": {},
   "outputs": [],
   "source": [
    "!mkdir temp \n",
    "!aws ec2 create-key-pair --key-name eksworkshop > temp/eksworkshop.pem"
   ]
  },
  {
   "cell_type": "markdown",
   "metadata": {},
   "source": [
    "#### <br><br>KMS CMK Key"
   ]
  },
  {
   "cell_type": "markdown",
   "metadata": {},
   "source": [
    "These are the encryption keys we will use to encrypt our data "
   ]
  },
  {
   "cell_type": "code",
   "execution_count": null,
   "metadata": {},
   "outputs": [],
   "source": [
    "!aws kms create-alias --alias-name alias/eksworkshop --target-key-id $(aws kms create-key --query KeyMetadata.Arn --output text)"
   ]
  },
  {
   "cell_type": "markdown",
   "metadata": {},
   "source": [
    "* Get master arn value of the KMS key"
   ]
  },
  {
   "cell_type": "code",
   "execution_count": null,
   "metadata": {},
   "outputs": [],
   "source": [
    "!aws kms describe-key --key-id alias/eksworkshop --query KeyMetadata.Arn --output text"
   ]
  },
  {
   "cell_type": "markdown",
   "metadata": {},
   "source": [
    "* Save the value in a variable"
   ]
  },
  {
   "cell_type": "code",
   "execution_count": null,
   "metadata": {},
   "outputs": [],
   "source": [
    "MASTER_ARN=''\n",
    "%store MASTER_ARN"
   ]
  },
  {
   "cell_type": "markdown",
   "metadata": {},
   "source": [
    "<br><br>This is needed to integrate EKS with KMS and can only be done at creation time. We will also create secrets later on which will make use of the KMS integration with CloudTrail "
   ]
  },
  {
   "cell_type": "markdown",
   "metadata": {},
   "source": [
    "<br><br>\n",
    "<div class=\"alert alert-block alert-info\">\n",
    "<font style=\"color:black\">\n",
    "<center>\n",
    "As we will be moving variables across notebooks, we need to keep some persistence. We will use the %store magic to do this.<br><br> In each notebook at the start, we run %store -r to recall the variables \n",
    "</center>\n",
    "</font>\n",
    "</div>"
   ]
  },
  {
   "cell_type": "markdown",
   "metadata": {},
   "source": [
    "### <center> We are ready to create the EKS cluster now! :) "
   ]
  }
 ],
 "metadata": {
  "kernelspec": {
   "display_name": "Python 3",
   "language": "python",
   "name": "python3"
  },
  "language_info": {
   "codemirror_mode": {
    "name": "ipython",
    "version": 3
   },
   "file_extension": ".py",
   "mimetype": "text/x-python",
   "name": "python",
   "nbconvert_exporter": "python",
   "pygments_lexer": "ipython3",
   "version": "3.8.3"
  }
 },
 "nbformat": 4,
 "nbformat_minor": 4
}
